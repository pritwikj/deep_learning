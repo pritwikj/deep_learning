{
 "cells": [
  {
   "cell_type": "code",
   "execution_count": 12,
   "id": "74397a2c-a643-4321-abb6-cb5dc50cf274",
   "metadata": {},
   "outputs": [],
   "source": [
    "from fastai.vision.all import *\n",
    "from fastai.vision.widgets import *"
   ]
  },
  {
   "cell_type": "markdown",
   "id": "624eb337-2e56-44ef-8994-f28063ccb506",
   "metadata": {},
   "source": [
    "## AWESOME BEAR CLASSIFIER"
   ]
  },
  {
   "cell_type": "code",
   "execution_count": 14,
   "id": "e61e56dd-fab1-4b52-a321-351d6a333f45",
   "metadata": {},
   "outputs": [],
   "source": [
    "path = Path()\n",
    "learn_inf = load_learner(path/'export.pkl')\n",
    "btn_upload = widgets.FileUpload()\n",
    "out_pl = widgets.Output()\n",
    "lbl_pred = widgets.Label()\n",
    "btn_run = widgets.Button(description='Classify')"
   ]
  },
  {
   "cell_type": "code",
   "execution_count": 15,
   "id": "bbcac404-fc04-42bf-8018-f1a4cd6ad533",
   "metadata": {},
   "outputs": [],
   "source": [
    "def on_click(change):\n",
    "    img = PILImage.create(btn_upload.data[-1])\n",
    "    out_pl.clear_output()\n",
    "    with out_pl: display(img.to_thumb(128,128))\n",
    "    pred,pred_idx,probs = learn_inf.predict(img)\n",
    "    lbl_pred.value = f'Prediction: {pred}; Probability: {probs[pred_idx]:.04f}'"
   ]
  },
  {
   "cell_type": "code",
   "execution_count": 16,
   "id": "99f16ff4-b320-4c2a-92fc-187cc3147bec",
   "metadata": {},
   "outputs": [],
   "source": [
    "btn_upload.observe(on_click, names = ['data'])"
   ]
  },
  {
   "cell_type": "code",
   "execution_count": 17,
   "id": "8dd05a8b-5eb8-4e22-a002-bdba569be3d7",
   "metadata": {},
   "outputs": [
    {
     "data": {
      "application/vnd.jupyter.widget-view+json": {
       "model_id": "41c7f1a72b23411593a11f8884f58404",
       "version_major": 2,
       "version_minor": 0
      },
      "text/plain": [
       "VBox(children=(Label(value='Select your bear!'), FileUpload(value={}, description='Upload'), Button(descriptio…"
      ]
     },
     "metadata": {},
     "output_type": "display_data"
    }
   ],
   "source": [
    "display(VBox([widgets.Label('Select your bear!'), \n",
    "      btn_upload, btn_run, out_pl, lbl_pred]))"
   ]
  }
 ],
 "metadata": {
  "kernelspec": {
   "display_name": "Python 3 (ipykernel)",
   "language": "python",
   "name": "python3"
  },
  "language_info": {
   "codemirror_mode": {
    "name": "ipython",
    "version": 3
   },
   "file_extension": ".py",
   "mimetype": "text/x-python",
   "name": "python",
   "nbconvert_exporter": "python",
   "pygments_lexer": "ipython3",
   "version": "3.7.11"
  }
 },
 "nbformat": 4,
 "nbformat_minor": 5
}
